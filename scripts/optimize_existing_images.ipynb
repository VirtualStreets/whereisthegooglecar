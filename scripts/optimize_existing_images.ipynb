{
 "cells": [
  {
   "cell_type": "code",
   "execution_count": null,
   "metadata": {},
   "outputs": [],
   "source": [
    "\n",
    "import requests\n",
    "from PIL import Image\n",
    "from io import BytesIO\n",
    "import boto3\n",
    "import os, dotenv\n",
    "\n",
    "dotenv.load_dotenv()"
   ]
  },
  {
   "cell_type": "code",
   "execution_count": null,
   "metadata": {},
   "outputs": [],
   "source": [
    "# Initialize Connection Stringss\n",
    "aws_access_key_id = os.getenv('AWS_SECRET_PUBLIC_KEY')\n",
    "aws_secret_access_key = os.getenv('AWS_SECRET_PRIVATE_KEY')\n",
    "aws_bucket_name = os.getenv('AWS_BUCKET_NAME')\n",
    "connection_string = f\"postgresql://{os.getenv('POSTGRES_USER')}:{os.getenv('POSTGRES_PASSWORD')}@{os.getenv('POSTGRES_IP')}/{os.getenv('POSTGRES_DB')}\"\n",
    "print(aws_access_key_id, aws_secret_access_key, aws_bucket_name)\n",
    "print(connection_string)"
   ]
  },
  {
   "cell_type": "markdown",
   "metadata": {},
   "source": [
    "## Initiate AWS-S3 Session"
   ]
  },
  {
   "cell_type": "code",
   "execution_count": null,
   "metadata": {},
   "outputs": [],
   "source": [
    "# Initiate AWS & S3 Session\n",
    "aws_session = boto3.Session(\n",
    "    aws_access_key_id=os.getenv('AWS_SECRET_PUBLIC_KEY'),\n",
    "    aws_secret_access_key=os.getenv('AWS_SECRET_PRIVATE_KEY')\n",
    ")\n",
    "aws_s3_session = aws_session.resource('s3')\n",
    "aws_session_bucket = aws_s3_session.Bucket(aws_bucket_name)"
   ]
  },
  {
   "cell_type": "code",
   "execution_count": null,
   "metadata": {},
   "outputs": [],
   "source": [
    "aws_s3_session.Bucket(aws_bucket_name).put_object(Key='images/test.txt', Body=b'Hello World!')"
   ]
  },
  {
   "cell_type": "markdown",
   "metadata": {},
   "source": [
    "## Initialize Database"
   ]
  },
  {
   "cell_type": "code",
   "execution_count": null,
   "metadata": {},
   "outputs": [],
   "source": [
    "import asyncpg\n",
    "database = await asyncpg.create_pool(dsn=connection_string)"
   ]
  },
  {
   "cell_type": "code",
   "execution_count": null,
   "metadata": {},
   "outputs": [],
   "source": [
    "result = await database.fetch('SELECT * FROM spottings')\n",
    "image_urls = [row['imageUrl'] for row in result]\n",
    "image_urls"
   ]
  },
  {
   "cell_type": "markdown",
   "metadata": {},
   "source": [
    "## Download & Optimize Images"
   ]
  },
  {
   "cell_type": "code",
   "execution_count": null,
   "metadata": {},
   "outputs": [],
   "source": [
    "import os, tempfile\n",
    "# os.mkdir('images')"
   ]
  },
  {
   "cell_type": "code",
   "execution_count": null,
   "metadata": {},
   "outputs": [],
   "source": [
    "print(len(image_urls))\n",
    "for image in image_urls:\n",
    "    image_loc = image\n",
    "    print(image_urls.index(image) + 1, image)\n",
    "\n",
    "    image_data = aws_s3_session.Object(aws_bucket_name, image).get()['Body'].read()\n",
    "    image_io = BytesIO(image_data)\n",
    "    image = Image.open(image_io)\n",
    "\n",
    "    # Optimize Image\n",
    "    # create temp file to append to IO\n",
    "    with tempfile.NamedTemporaryFile(delete=False) as temp:\n",
    "        image.save(temp.name, format=\"WebP\", quality=10, optimize=True)        \n",
    "        temp.close()\n",
    "\n",
    "        with open(temp.name, 'rb') as optimized:\n",
    "            optimized_image_io = BytesIO(optimized.read())\n",
    "    os.remove(temp.name)\n",
    "    \n",
    "    # Grab Data from IO\n",
    "    data = optimized_image_io.getvalue()\n",
    "    \n",
    "    # Save to Storage\n",
    "    # with open(image_loc, 'wb') as f:\n",
    "    #     f.write(data)\n",
    "        \n",
    "    # Uploads to S3\n",
    "    aws_s3_session.Bucket(aws_bucket_name).put_object(Key=f'{image}', Body=data)\n",
    "    # print(f\"Optimized {image} to S3 on {aws_bucket_name}\")\n",
    "    \n",
    "    # break"
   ]
  }
 ],
 "metadata": {
  "kernelspec": {
   "display_name": "env",
   "language": "python",
   "name": "python3"
  },
  "language_info": {
   "codemirror_mode": {
    "name": "ipython",
    "version": 3
   },
   "file_extension": ".py",
   "mimetype": "text/x-python",
   "name": "python",
   "nbconvert_exporter": "python",
   "pygments_lexer": "ipython3",
   "version": "3.12.1"
  }
 },
 "nbformat": 4,
 "nbformat_minor": 2
}
